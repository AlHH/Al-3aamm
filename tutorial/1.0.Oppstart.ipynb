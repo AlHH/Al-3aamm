{
  "cells": [
    {
      "cell_type": "markdown",
      "metadata": {
        "id": "view-in-github",
        "colab_type": "text"
      },
      "source": [
        "<a href=\"https://colab.research.google.com/github/AlHH/Al-3aamm/blob/main/tutorial/1.0.Oppstart.ipynb\" target=\"_parent\"><img src=\"https://colab.research.google.com/assets/colab-badge.svg\" alt=\"Open In Colab\"/></a>"
      ]
    },
    {
      "cell_type": "markdown",
      "metadata": {
        "id": "WZ3xWrle-1J8"
      },
      "source": [
        "![resources/images/dhlab-logo-nb.png](https://github.com/NationalLibraryOfNorway/digital_tekstanalyse/blob/main/resources/images/dhlab-logo-nb.png?raw=1)"
      ]
    },
    {
      "cell_type": "markdown",
      "metadata": {
        "id": "yypXJlOd-1J-"
      },
      "source": [
        "### Oppstart\n"
      ]
    },
    {
      "cell_type": "markdown",
      "metadata": {
        "id": "ZsrRPQwr-1J-"
      },
      "source": [
        "For å kunne bruke alle deler av dhlab kreves versjon 3.10 av Python. Du kan sjekke versjonen i ditt lokale miljø med å kjøre cellen under."
      ]
    },
    {
      "cell_type": "code",
      "execution_count": 1,
      "metadata": {
        "id": "iAih_IoV-1J-",
        "outputId": "5eef9c9f-963a-4903-a508-dd814fc4281c",
        "colab": {
          "base_uri": "https://localhost:8080/"
        }
      },
      "outputs": [
        {
          "output_type": "stream",
          "name": "stdout",
          "text": [
            "Python 3.12.12\n"
          ]
        }
      ],
      "source": [
        "!python --version"
      ]
    },
    {
      "cell_type": "markdown",
      "metadata": {
        "id": "nB3cwoVY-1J_"
      },
      "source": [
        "Dhlab installeres med `pip`. Kjør cellen under for å installere siste versjon av dhlab i ditt nåværende python-miljø."
      ]
    },
    {
      "cell_type": "code",
      "execution_count": 2,
      "metadata": {
        "tags": [],
        "id": "_7-fPtZJ-1J_"
      },
      "outputs": [],
      "source": [
        "# !pip install dhlab"
      ]
    }
  ],
  "metadata": {
    "hide_input": false,
    "kernelspec": {
      "display_name": "dhlab",
      "language": "python",
      "name": "python3"
    },
    "language_info": {
      "codemirror_mode": {
        "name": "ipython",
        "version": 3
      },
      "file_extension": ".py",
      "mimetype": "text/x-python",
      "name": "python",
      "nbconvert_exporter": "python",
      "pygments_lexer": "ipython3",
      "version": "3.10.12"
    },
    "varInspector": {
      "cols": {
        "lenName": 16,
        "lenType": 16,
        "lenVar": 40
      },
      "kernels_config": {
        "python": {
          "delete_cmd_postfix": "",
          "delete_cmd_prefix": "del ",
          "library": "var_list.py",
          "varRefreshCmd": "print(var_dic_list())"
        },
        "r": {
          "delete_cmd_postfix": ") ",
          "delete_cmd_prefix": "rm(",
          "library": "var_list.r",
          "varRefreshCmd": "cat(var_dic_list()) "
        }
      },
      "types_to_exclude": [
        "module",
        "function",
        "builtin_function_or_method",
        "instance",
        "_Feature"
      ],
      "window_display": false
    },
    "vscode": {
      "interpreter": {
        "hash": "1d1df0d064732dbd8ae09ceab87be2790d7eed279040ea9405054873f855fb6c"
      }
    },
    "colab": {
      "provenance": [],
      "include_colab_link": true
    }
  },
  "nbformat": 4,
  "nbformat_minor": 0
}